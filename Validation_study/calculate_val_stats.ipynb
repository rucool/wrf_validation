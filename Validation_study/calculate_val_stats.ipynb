{
 "cells": [
  {
   "cell_type": "code",
   "execution_count": 1,
   "metadata": {},
   "outputs": [],
   "source": [
    "#Calculates the statistics for the RUWRF vs HRRR model validation study conducted across multiple wind profileing buoys.\n",
    "#data spredsheets can be added to\n",
    "#Val_stats_buoy.xlsx contains the data specific to each buoy/season\n",
    "#validation_stats_total.xlsx just has the sum of all RUWRF points and HRRR points for comparison\n",
    "\n",
    "\n",
    "#Author: james kim\n",
    "#last updated: 4/28/22 -jameskim"
   ]
  },
  {
   "cell_type": "code",
   "execution_count": 1,
   "metadata": {},
   "outputs": [],
   "source": [
    "import pandas as pd\n"
   ]
  },
  {
   "cell_type": "code",
   "execution_count": 2,
   "metadata": {},
   "outputs": [],
   "source": [
    "\n",
    "file_path_total = '/Users/jameskim/Documents/rucool/Data/validation_stats_total.xlsx'\n",
    "file_path_buoy = '/Users/jameskim/Documents/rucool/Data/Val_stats_buoy.xlsx'\n",
    "\n",
    "data_total = pd.read_excel(file_path_total)\n",
    "data_buoy = pd.read_excel(file_path_buoy)\n",
    "\n",
    "data_buoy = data_buoy.fillna(0)\n",
    "\n",
    "\n",
    "\n"
   ]
  },
  {
   "cell_type": "code",
   "execution_count": 44,
   "metadata": {},
   "outputs": [],
   "source": [
    "def weighted_average(df, values, weights):\n",
    "    return sum(df[weights] * df[values]) / df[weights].sum()"
   ]
  },
  {
   "cell_type": "code",
   "execution_count": 29,
   "metadata": {},
   "outputs": [],
   "source": []
  },
  {
   "cell_type": "code",
   "execution_count": 45,
   "metadata": {},
   "outputs": [
    {
     "name": "stdout",
     "output_type": "stream",
     "text": [
      "Total RUWRF rms weighted mean is: 2.1439293558396972\n",
      "Total HRRR rms weighted mean is: 2.123153014013992\n",
      "Total RUWRF bias weighted mean is: -0.19586593014811063\n",
      "Total HRRR bias weighted mean is: -0.570780715674661\n",
      "Total RUWRF r2 weighted mean is: 0.774193314113427\n",
      "Total HRRR r2 weighted mean is: 0.7694767662770163\n"
     ]
    }
   ],
   "source": [
    "print(\"Total RUWRF rms weighted mean is:\", weighted_average(data_total, 'rms_ruwrf', 'ruwrf_c'))\n",
    "print(\"Total HRRR rms weighted mean is:\", weighted_average(data_total, 'rms_hrrr', 'hrrr_c'))\n",
    "\n",
    "print(\"Total RUWRF bias weighted mean is:\", weighted_average(data_total, 'bias_ruwrf', 'ruwrf_c'))\n",
    "print(\"Total HRRR bias weighted mean is:\", weighted_average(data_total, 'bias_hrrr', 'hrrr_c'))\n",
    "\n",
    "print(\"Total RUWRF r2 weighted mean is:\", weighted_average(data_total, 'r2_ruwrf', 'ruwrf_c'))\n",
    "print(\"Total HRRR r2 weighted mean is:\", weighted_average(data_total, 'r2_hrrr', 'hrrr_c'))"
   ]
  },
  {
   "cell_type": "code",
   "execution_count": 75,
   "metadata": {},
   "outputs": [
    {
     "name": "stdout",
     "output_type": "stream",
     "text": [
      "NYN RUWRF rms weighted mean is: 2.126138872225555\n",
      "NYN HRRR rms weighted mean is: 2.142642326808615\n",
      "NYN RUWRF bias weighted mean is: -0.31075302939412114\n",
      "NYN HRRR bias weighted mean is: -0.6983141068908388\n",
      "NYN RUWRF r2 weighted mean is: 0.7857126574685063\n",
      "NYN HRRR r2 weighted mean is: 0.7880843099957047\n"
     ]
    }
   ],
   "source": [
    "########## NYN ########\n",
    "\n",
    "print(\"NYN RUWRF rms weighted mean is:\", weighted_average(data_buoy, 'ruwrf_rms_NYN', 'ruwrf_c_NYN'))\n",
    "print(\"NYN HRRR rms weighted mean is:\", weighted_average(data_buoy, 'hrrr_rms_NYN', 'hrrr_c_NYN'))\n",
    "\n",
    "print(\"NYN RUWRF bias weighted mean is:\", weighted_average(data_buoy, 'ruwrf_bias_NYN', 'ruwrf_c_NYN'))\n",
    "print(\"NYN HRRR bias weighted mean is:\", weighted_average(data_buoy, 'hrrr_bias_NYN', 'hrrr_c_NYN'))\n",
    "\n",
    "print(\"NYN RUWRF r2 weighted mean is:\", weighted_average(data_buoy, 'ruwrf_r2_NYN', 'ruwrf_c_NYN'))\n",
    "print(\"NYN HRRR r2 weighted mean is:\", weighted_average(data_buoy, 'hrrr_r2_NYN', 'hrrr_c_NYN'))\n"
   ]
  },
  {
   "cell_type": "code",
   "execution_count": 76,
   "metadata": {},
   "outputs": [
    {
     "name": "stdout",
     "output_type": "stream",
     "text": [
      "NYS RUWRF rms weighted mean is: 2.1446677710045057\n",
      "NYS HRRR rms weighted mean is: 2.110384149623251\n",
      "NYS RUWRF bias weighted mean is: -0.2202085873310363\n",
      "NYS HRRR bias weighted mean is: -0.5776485468245425\n",
      "NYS RUWRF r2 weighted mean is: 0.7794241982507288\n",
      "NYS HRRR r2 weighted mean is: 0.7787446178686759\n"
     ]
    }
   ],
   "source": [
    "##### NYS #####\n",
    "print(\"NYS RUWRF rms weighted mean is:\", weighted_average(data_buoy, 'ruwrf_rms_NYS', 'ruwrf_c_NYS'))\n",
    "print(\"NYS HRRR rms weighted mean is:\", weighted_average(data_buoy, 'hrrr_rms_NYS', 'hrrr_c_NYS'))\n",
    "\n",
    "print(\"NYS RUWRF bias weighted mean is:\", weighted_average(data_buoy, 'ruwrf_bias_NYS', 'ruwrf_c_NYS'))\n",
    "print(\"NYS HRRR bias weighted mean is:\", weighted_average(data_buoy, 'hrrr_bias_NYS', 'hrrr_c_NYS'))\n",
    "\n",
    "print(\"NYS RUWRF r2 weighted mean is:\", weighted_average(data_buoy, 'ruwrf_r2_NYS', 'ruwrf_c_NYS'))\n",
    "print(\"NYS HRRR r2 weighted mean is:\", weighted_average(data_buoy, 'hrrr_r2_NYS', 'hrrr_c_NYS'))\n"
   ]
  },
  {
   "cell_type": "code",
   "execution_count": 77,
   "metadata": {},
   "outputs": [
    {
     "name": "stdout",
     "output_type": "stream",
     "text": [
      "NYSW RUWRF rms weighted mean is: 2.1404287783043707\n",
      "NYSW HRRR rms weighted mean is: 1.9736460845369022\n",
      "NYSw RUWRF bias weighted mean is: -0.06485663507109006\n",
      "NYSW HRRR bias weighted mean is: -0.37801603286073937\n",
      "NYSW RUWRF r2 weighted mean is: 0.7810650342285413\n",
      "NYSW HRRR r2 weighted mean is: 0.7815304094342123\n"
     ]
    }
   ],
   "source": [
    "####### NYSW #######\n",
    "\n",
    "print(\"NYSW RUWRF rms weighted mean is:\", weighted_average(data_buoy, 'ruwrf_rms_NYSW', 'ruwrf_c_NYSW'))\n",
    "print(\"NYSW HRRR rms weighted mean is:\", weighted_average(data_buoy, 'hrrr_rms_NYSW', 'hrrr_c_NYSW'))\n",
    "\n",
    "print(\"NYSw RUWRF bias weighted mean is:\", weighted_average(data_buoy, 'ruwrf_bias_NYSW', 'ruwrf_c_NYSW'))\n",
    "print(\"NYSW HRRR bias weighted mean is:\", weighted_average(data_buoy, 'hrrr_bias_NYSW', 'hrrr_c_NYSW'))\n",
    "\n",
    "print(\"NYSW RUWRF r2 weighted mean is:\", weighted_average(data_buoy, 'ruwrf_r2_NYSW', 'ruwrf_c_NYSW'))\n",
    "print(\"NYSW HRRR r2 weighted mean is:\", weighted_average(data_buoy, 'hrrr_r2_NYSW', 'hrrr_c_NYSW'))"
   ]
  },
  {
   "cell_type": "code",
   "execution_count": 78,
   "metadata": {},
   "outputs": [
    {
     "name": "stdout",
     "output_type": "stream",
     "text": [
      "B6 RUWRF rms weighted mean is: 2.2235234474017744\n",
      "B6 HRRR rms weighted mean is: 2.3784359949302916\n",
      "B6 RUWRF bias weighted mean is: 0.01900633713561469\n",
      "B6 HRRR bias weighted mean is: -0.5671939163498099\n",
      "B6 RUWRF r2 weighted mean is: 0.743275031685678\n",
      "B6 HRRR r2 weighted mean is: 0.6978656527249683\n"
     ]
    }
   ],
   "source": [
    "########## ASOSB6 #########\n",
    "\n",
    "print(\"B6 RUWRF rms weighted mean is:\", weighted_average(data_buoy, 'ruwrf_rms_B6', 'ruwrf_c_B6'))\n",
    "print(\"B6 HRRR rms weighted mean is:\", weighted_average(data_buoy, 'hrrr_rms_B6', 'hrrr_c_B6'))\n",
    "\n",
    "print(\"B6 RUWRF bias weighted mean is:\", weighted_average(data_buoy, 'ruwrf_bias_B6', 'ruwrf_c_B6'))\n",
    "print(\"B6 HRRR bias weighted mean is:\", weighted_average(data_buoy, 'hrrr_bias_B6', 'hrrr_c_B6'))\n",
    "\n",
    "print(\"B6 RUWRF r2 weighted mean is:\", weighted_average(data_buoy, 'ruwrf_r2_B6', 'ruwrf_c_B6'))\n",
    "print(\"B6 HRRR r2 weighted mean is:\", weighted_average(data_buoy, 'hrrr_r2_B6', 'hrrr_c_B6'))"
   ]
  },
  {
   "cell_type": "markdown",
   "metadata": {},
   "source": [
    "###### THIS NEXT SECTION WILL BE FOR THE SEASONAL WEIGHTED MEANS ###########"
   ]
  },
  {
   "cell_type": "code",
   "execution_count": 60,
   "metadata": {},
   "outputs": [
    {
     "name": "stdout",
     "output_type": "stream",
     "text": [
      "Fall 2019  RUWRF rms weighted mean is: 1.6403111480865225\n",
      "Fall 2019 HRRR rms weighted mean is: 2.01430615640599\n",
      "Fall 2019 RUWRF bias weighted mean is: -0.38915141430948413\n",
      "Fall 2019 HRRR bias weighted mean is: -1.1702312811980033\n",
      "Fall 2019 RUWRF r2 weighted mean is: 0.9\n",
      "Fall 2019 HRRR r2 weighted mean is: 0.88\n"
     ]
    }
   ],
   "source": [
    "print(\"Fall 2019  RUWRF rms weighted mean is:\", weighted_average(data_buoy, 'Fall_2019_rms_ruwrf', 'Fall_2019_c_ruwrf'))\n",
    "print(\"Fall 2019 HRRR rms weighted mean is:\", weighted_average(data_buoy, 'Fall_2019_rms_hrrr', 'Fall_2019_c_hrrr'))\n",
    "\n",
    "print(\"Fall 2019 RUWRF bias weighted mean is:\", weighted_average(data_buoy, 'Fall_2019_bias_ruwrf', 'Fall_2019_c_ruwrf'))\n",
    "print(\"Fall 2019 HRRR bias weighted mean is:\", weighted_average(data_buoy, 'Fall_2019_bias_hrrr', 'Fall_2019_c_hrrr'))\n",
    "\n",
    "print(\"Fall 2019 RUWRF r2 weighted mean is:\", weighted_average(data_buoy, 'Fall_2019_r2 _ruwrf', 'Fall_2019_c_ruwrf'))\n",
    "print(\"Fall 2019 HRRR r2 weighted mean is:\", weighted_average(data_buoy, 'Fall_2019_r2 _hrrr', 'Fall_2019_c_hrrr'))"
   ]
  },
  {
   "cell_type": "code",
   "execution_count": 61,
   "metadata": {},
   "outputs": [
    {
     "name": "stdout",
     "output_type": "stream",
     "text": [
      "Winter 2019  RUWRF rms weighted mean is: 2.3034346905154153\n",
      "Winter 2019  HRRR rms weighted mean is: 2.4187710049423394\n",
      "Winter 2019  RUWRF bias weighted mean is: -0.3909799952930101\n",
      "Winter 2019  HRRR bias weighted mean is: -1.0374412803012474\n",
      "Winter 2019  RUWRF r2 weighted mean is: 0.7849446928689103\n",
      "Winter 2019  HRRR r2 weighted mean is: 0.7902212285243587\n"
     ]
    }
   ],
   "source": [
    "print(\"Winter 2019  RUWRF rms weighted mean is:\", weighted_average(data_buoy, 'Winter_2019_rms_ruwrf', 'Winter_2019_c_ruwrf'))\n",
    "print(\"Winter 2019  HRRR rms weighted mean is:\", weighted_average(data_buoy, 'Winter_2019_rms_hrrr', 'Winter_2019_c_hrrr'))\n",
    "\n",
    "print(\"Winter 2019  RUWRF bias weighted mean is:\", weighted_average(data_buoy, 'Winter_2019_bias_ruwrf', 'Winter_2019_c_ruwrf'))\n",
    "print(\"Winter 2019  HRRR bias weighted mean is:\", weighted_average(data_buoy, 'Winter_2019_bias_hrrr', 'Winter_2019_c_hrrr'))\n",
    "\n",
    "print(\"Winter 2019  RUWRF r2 weighted mean is:\", weighted_average(data_buoy, 'Winter_2019_r2_ruwrf', 'Winter_2019_c_ruwrf'))\n",
    "print(\"Winter 2019  HRRR r2 weighted mean is:\", weighted_average(data_buoy, 'Winter_2019_r2_hrrr', 'Winter_2019_c_hrrr'))"
   ]
  },
  {
   "cell_type": "code",
   "execution_count": 62,
   "metadata": {},
   "outputs": [
    {
     "name": "stdout",
     "output_type": "stream",
     "text": [
      "Spring 2020  RUWRF rms weighted mean is: 2.253360682638661\n",
      "Spring 2020  HRRR rms weighted mean is: 2.4714543813587135\n",
      "Spring 2020  RUWRF bias weighted mean is: 0.012359205776173282\n",
      "Spring 2020  HRRR bias weighted mean is: -0.87579799803085\n",
      "Spring 2020  RUWRF r2 weighted mean is: 0.7644322284213982\n",
      "Spring 2020  HRRR r2 weighted mean is: 0.7303872661634394\n"
     ]
    }
   ],
   "source": [
    "print(\"Spring 2020  RUWRF rms weighted mean is:\", weighted_average(data_buoy, 'Spring_2020_rms_ruwrf', 'Spring_2020_c_ruwrf'))\n",
    "print(\"Spring 2020  HRRR rms weighted mean is:\", weighted_average(data_buoy, 'Spring_2020_rms_hrrr', 'Spring_2020_c_hrrr'))\n",
    "\n",
    "print(\"Spring 2020  RUWRF bias weighted mean is:\", weighted_average(data_buoy, 'Spring_2020_bias_ruwrf', 'Spring_2020_c_ruwrf'))\n",
    "print(\"Spring 2020  HRRR bias weighted mean is:\", weighted_average(data_buoy, 'Spring_2020_bias_hrrr', 'Spring_2020_c_hrrr'))\n",
    "\n",
    "print(\"Spring 2020  RUWRF r2 weighted mean is:\", weighted_average(data_buoy, 'Spring_2020_r2_ruwrf', 'Spring_2020_c_ruwrf'))\n",
    "print(\"Spring 2020  HRRR r2 weighted mean is:\", weighted_average(data_buoy, 'Spring_2020_r2_hrrr', 'Spring_2020_c_hrrr'))"
   ]
  },
  {
   "cell_type": "code",
   "execution_count": 63,
   "metadata": {},
   "outputs": [
    {
     "name": "stdout",
     "output_type": "stream",
     "text": [
      "Summer 2020  RUWRF rms weighted mean is: 2.0980677906568315\n",
      "Summer 2020  HRRR rms weighted mean is: 2.11745363540569\n",
      "Summer 2020  RUWRF bias weighted mean is: -0.08694924481910785\n",
      "Summer 2020  HRRR bias weighted mean is: -0.3204662802950474\n",
      "Summer 2020  RUWRF r2 weighted mean is: 0.7402318229715489\n",
      "Summer 2020  HRRR r2 weighted mean is: 0.6969933263083948\n"
     ]
    }
   ],
   "source": [
    "print(\"Summer 2020  RUWRF rms weighted mean is:\", weighted_average(data_buoy, 'Summer_2020_rms_ruwrf', 'Summer_2020_c_ruwrf'))\n",
    "print(\"Summer 2020  HRRR rms weighted mean is:\", weighted_average(data_buoy, 'Summer_2020_rms_hrrr', 'Summer_2020_c_hrrr'))\n",
    "\n",
    "print(\"Summer 2020  RUWRF bias weighted mean is:\", weighted_average(data_buoy, 'Summer_2020_bias_ruwrf', 'Summer_2020_c_ruwrf'))\n",
    "print(\"Summer 2020  HRRR bias weighted mean is:\", weighted_average(data_buoy, 'Summer_2020_bias_hrrr', 'Summer_2020_c_hrrr'))\n",
    "\n",
    "print(\"Summer 2020  RUWRF r2 weighted mean is:\", weighted_average(data_buoy, 'Summer_2020_r2_ruwrf', 'Summer_2020_c_ruwrf'))\n",
    "print(\"Summer 2020  HRRR r2 weighted mean is:\", weighted_average(data_buoy, 'Summer_2020_r2_hrrr', 'Summer_2020_c_hrrr'))"
   ]
  },
  {
   "cell_type": "code",
   "execution_count": 64,
   "metadata": {},
   "outputs": [
    {
     "name": "stdout",
     "output_type": "stream",
     "text": [
      "Fall 2020  RUWRF rms weighted mean is: 2.019\n",
      "Fall 2020  HRRR rms weighted mean is: 2.134\n",
      "Fall 2020  RUWRF bias weighted mean is: -0.439\n",
      "Fall 2020  HRRR bias weighted mean is: -0.908\n",
      "Fall 2020  RUWRF r2 weighted mean is: 0.81\n",
      "Fall 2020  HRRR r2 weighted mean is: 0.81\n"
     ]
    }
   ],
   "source": [
    "print(\"Fall 2020  RUWRF rms weighted mean is:\", weighted_average(data_buoy, 'Fall_2020_rms_ruwrf', 'Fall_2020_c_ruwrf'))\n",
    "print(\"Fall 2020  HRRR rms weighted mean is:\", weighted_average(data_buoy, 'Fall_2020_rms_hrrr', 'Fall_2020_c_hrrr'))\n",
    "\n",
    "print(\"Fall 2020  RUWRF bias weighted mean is:\", weighted_average(data_buoy, 'Fall_2020_bias_ruwrf', 'Fall_2020_c_ruwrf'))\n",
    "print(\"Fall 2020  HRRR bias weighted mean is:\", weighted_average(data_buoy, 'Fall_2020_bias_hrrr', 'Fall_2020_c_hrrr'))\n",
    "\n",
    "print(\"Fall 2020  RUWRF r2 weighted mean is:\", weighted_average(data_buoy, 'Fall_2020_r2_ruwrf', 'Fall_2020_c_ruwrf'))\n",
    "print(\"Fall 2020  HRRR r2 weighted mean is:\", weighted_average(data_buoy, 'Fall_2020_r2_hrrr', 'Fall_2020_c_hrrr'))\n"
   ]
  },
  {
   "cell_type": "code",
   "execution_count": 65,
   "metadata": {},
   "outputs": [
    {
     "name": "stdout",
     "output_type": "stream",
     "text": [
      "Winter 2020  RUWRF rms weighted mean is: 2.2867081234256927\n",
      "Winter 2020  HRRR rms weighted mean is: 1.9218691192076405\n",
      "Winter 2020  RUWRF bias weighted mean is: -0.6035113350125945\n",
      "Winter 2020  HRRR bias weighted mean is: -0.4213883975946233\n",
      "Winter 2020  RUWRF r2 weighted mean is: 0.7826983627204032\n",
      "Winter 2020  HRRR r2 weighted mean is: 0.7748355146798727\n"
     ]
    }
   ],
   "source": [
    "print(\"Winter 2020  RUWRF rms weighted mean is:\", weighted_average(data_buoy, 'Winter_2020_rms_ruwrf', 'Winter_2020_c_ruwrf'))\n",
    "print(\"Winter 2020  HRRR rms weighted mean is:\", weighted_average(data_buoy, 'Winter_2020_rms_hrrr', 'Winter_2020_c_hrrr'))\n",
    "\n",
    "print(\"Winter 2020  RUWRF bias weighted mean is:\", weighted_average(data_buoy, 'Winter_2020_bias_ruwrf', 'Winter_2020_c_ruwrf'))\n",
    "print(\"Winter 2020  HRRR bias weighted mean is:\", weighted_average(data_buoy, 'Winter_2020_bias_hrrr', 'Winter_2020_c_hrrr'))\n",
    "\n",
    "print(\"Winter 2020  RUWRF r2 weighted mean is:\", weighted_average(data_buoy, 'Winter_2020_r2_ruwrf', 'Winter_2020_c_ruwrf'))\n",
    "print(\"Winter 2020  HRRR r2 weighted mean is:\", weighted_average(data_buoy, 'Winter_2020_r2_hrrr', 'Winter_2020_c_hrrr'))\n"
   ]
  },
  {
   "cell_type": "code",
   "execution_count": 69,
   "metadata": {},
   "outputs": [
    {
     "name": "stdout",
     "output_type": "stream",
     "text": [
      "Spring 2021  RUWRF rms weighted mean is: 2.461711394844616\n",
      "Spring 2021  HRRR rms weighted mean is: 2.124787280173452\n",
      "Spring 2021  RUWRF bias weighted mean is: -0.281\n",
      "Spring 2021  HRRR bias weighted mean is: -0.29926017827029633\n",
      "Spring 2021  RUWRF r2 weighted mean is: 0.7349457961936883\n",
      "Spring 2021  HRRR r2 weighted mean is: 0.7949457961936883\n"
     ]
    }
   ],
   "source": [
    "print(\"Spring 2021  RUWRF rms weighted mean is:\", weighted_average(data_buoy, 'Spring_2021_rms_ruwrf', 'Spring_2021_c_ruwrf'))\n",
    "print(\"Spring 2021  HRRR rms weighted mean is:\", weighted_average(data_buoy, 'Spring_2021_rms_hrrr', 'Spring_2021_c_hrrr'))\n",
    "\n",
    "print(\"Spring 2021  RUWRF bias weighted mean is:\", weighted_average(data_buoy, 'Spring_2021_bias_ruwrf', 'Spring_2021_c_ruwrf'))\n",
    "print(\"Spring 2021  HRRR bias weighted mean is:\", weighted_average(data_buoy, 'Spring_2021_bias_hrrr', 'Spring_2021_c_hrrr'))\n",
    "\n",
    "print(\"Spring 2021  RUWRF r2 weighted mean is:\", weighted_average(data_buoy, 'Spring_2021_r2_ruwrf', 'Spring_2021_c_ruwrf'))\n",
    "print(\"Spring 2021  HRRR r2 weighted mean is:\", weighted_average(data_buoy, 'Spring_2021_r2_hrrr', 'Spring_2021_c_hrrr'))\n"
   ]
  },
  {
   "cell_type": "code",
   "execution_count": 70,
   "metadata": {},
   "outputs": [
    {
     "name": "stdout",
     "output_type": "stream",
     "text": [
      "Summer 2021  RUWRF rms weighted mean is: 2.125713043478261\n",
      "Summer 2021  HRRR rms weighted mean is: 2.0072330637007076\n",
      "Summer 2021  RUWRF bias weighted mean is: 0.0031822805578342953\n",
      "Summer 2021  HRRR bias weighted mean is: -0.22042568250758343\n",
      "Summer 2021  RUWRF r2 weighted mean is: 0.6967284659557013\n",
      "Summer 2021  HRRR r2 weighted mean is: 0.7049494438827099\n"
     ]
    }
   ],
   "source": [
    "print(\"Summer 2021  RUWRF rms weighted mean is:\", weighted_average(data_buoy, 'Summer_2021_rms_ruwrf', 'Summer_2021_c_ruwrf'))\n",
    "print(\"Summer 2021  HRRR rms weighted mean is:\", weighted_average(data_buoy, 'Summer_2021_rms_hrrr', 'Summer_2021_c_hrrr'))\n",
    "\n",
    "print(\"Summer 2021  RUWRF bias weighted mean is:\", weighted_average(data_buoy, 'Summer_2021_bias_ruwrf', 'Summer_2021_c_ruwrf'))\n",
    "print(\"Summer 2021  HRRR bias weighted mean is:\", weighted_average(data_buoy, 'Summer_2021_bias_hrrr', 'Summer_2021_c_hrrr'))\n",
    "\n",
    "print(\"Summer 2021  RUWRF r2 weighted mean is:\", weighted_average(data_buoy, 'Summer_2021_r2_ruwrf', 'Summer_2021_c_ruwrf'))\n",
    "print(\"Summer 2021  HRRR r2 weighted mean is:\", weighted_average(data_buoy, 'Summer_2021_r2_hrrr', 'Summer_2021_c_hrrr'))\n"
   ]
  },
  {
   "cell_type": "code",
   "execution_count": 71,
   "metadata": {},
   "outputs": [
    {
     "name": "stdout",
     "output_type": "stream",
     "text": [
      "Fall 2021  RUWRF rms weighted mean is: nan\n",
      "Fall 2021  HRRR rms weighted mean is: nan\n",
      "Fall 2021  RUWRF bias weighted mean is: nan\n",
      "Fall 2021  HRRR bias weighted mean is: nan\n",
      "Fall 2021  RUWRF r2 weighted mean is: nan\n",
      "Fall 2021  HRRR r2 weighted mean is: nan\n"
     ]
    },
    {
     "name": "stderr",
     "output_type": "stream",
     "text": [
      "/var/folders/ch/9bztxt7d2j7gg52g89wcvwy80000gq/T/ipykernel_51350/1900689263.py:2: RuntimeWarning: invalid value encountered in double_scalars\n",
      "  return sum(df[weights] * df[values]) / df[weights].sum()\n"
     ]
    }
   ],
   "source": [
    "print(\"Fall 2021  RUWRF rms weighted mean is:\", weighted_average(data_buoy, 'Fall_2021_rms_ruwrf', 'Fall_2021_c_ruwrf'))\n",
    "print(\"Fall 2021  HRRR rms weighted mean is:\", weighted_average(data_buoy, 'Fall_2021_rms_hrrr', 'Fall_2021_c_hrrr'))\n",
    "\n",
    "print(\"Fall 2021  RUWRF bias weighted mean is:\", weighted_average(data_buoy, 'Fall_2021_bias_ruwrf', 'Fall_2021_c_ruwrf'))\n",
    "print(\"Fall 2021  HRRR bias weighted mean is:\", weighted_average(data_buoy, 'Fall_2021_bias_hrrr', 'Fall_2021_c_hrrr'))\n",
    "\n",
    "print(\"Fall 2021  RUWRF r2 weighted mean is:\", weighted_average(data_buoy, 'Fall_2021_r2_ruwrf', 'Fall_2021_c_ruwrf'))\n",
    "print(\"Fall 2021  HRRR r2 weighted mean is:\", weighted_average(data_buoy, 'Fall_2021_r2_hrrr', 'Fall_2021_c_hrrr'))\n"
   ]
  },
  {
   "cell_type": "code",
   "execution_count": 72,
   "metadata": {},
   "outputs": [
    {
     "name": "stdout",
     "output_type": "stream",
     "text": [
      "Winter 2021  RUWRF rms weighted mean is: 1.9819999999999998\n",
      "Winter 2021  HRRR rms weighted mean is: 1.871\n",
      "Winter 2021  RUWRF bias weighted mean is: -0.34\n",
      "Winter 2021  HRRR bias weighted mean is: -0.33\n",
      "Winter 2021  RUWRF r2 weighted mean is: 0.85\n",
      "Winter 2021  HRRR r2 weighted mean is: 0.86\n"
     ]
    }
   ],
   "source": [
    "print(\"Winter 2021  RUWRF rms weighted mean is:\", weighted_average(data_buoy, 'Winter_2021_rms_ruwrf', 'Winter_2021_c_ruwrf'))\n",
    "print(\"Winter 2021  HRRR rms weighted mean is:\", weighted_average(data_buoy, 'Winter_2021_rms_hrrr', 'Winter_2021_c_hrrr'))\n",
    "\n",
    "print(\"Winter 2021  RUWRF bias weighted mean is:\", weighted_average(data_buoy, 'Winter_2021_bias_ruwrf', 'Winter_2021_c_ruwrf'))\n",
    "print(\"Winter 2021  HRRR bias weighted mean is:\", weighted_average(data_buoy, 'Winter_2021_bias_hrrr', 'Winter_2021_c_hrrr'))\n",
    "\n",
    "print(\"Winter 2021  RUWRF r2 weighted mean is:\", weighted_average(data_buoy, 'Winter_2021_r2_ruwrf', 'Winter_2021_c_ruwrf'))\n",
    "print(\"Winter 2021  HRRR r2 weighted mean is:\", weighted_average(data_buoy, 'Winter_2021_r2_hrrr', 'Winter_2021_c_hrrr'))\n"
   ]
  },
  {
   "cell_type": "code",
   "execution_count": 85,
   "metadata": {},
   "outputs": [
    {
     "name": "stdout",
     "output_type": "stream",
     "text": [
      "Spring 2022  RUWRF rms weighted mean is: 2.261\n",
      "Spring 2022  HRRR rms weighted mean is: 2.153\n",
      "Spring 2022  RUWRF bias weighted mean is: 0.148\n",
      "Spring 2022  HRRR bias weighted mean is: -0.402\n",
      "Spring 2022  RUWRF r2 weighted mean is: 0.81\n",
      "Spring 2022  HRRR r2 weighted mean is: 0.82\n"
     ]
    }
   ],
   "source": [
    "print(\"Spring 2022  RUWRF rms weighted mean is:\", weighted_average(data_buoy, 'Spring_2022_rms_ruwrf', 'Spring_2022_c_ruwrf'))\n",
    "print(\"Spring 2022  HRRR rms weighted mean is:\", weighted_average(data_buoy, 'Spring_2022_rms_hrrr', 'Spring_2022_c_hrrr'))\n",
    "\n",
    "print(\"Spring 2022  RUWRF bias weighted mean is:\", weighted_average(data_buoy, 'Spring_2022_bias_ruwrf', 'Spring_2022_c_ruwrf'))\n",
    "print(\"Spring 2022  HRRR bias weighted mean is:\", weighted_average(data_buoy, 'Spring_2022_bias_hrrr', 'Spring_2022_c_hrrr'))\n",
    "\n",
    "print(\"Spring 2022  RUWRF r2 weighted mean is:\", weighted_average(data_buoy, 'Spring_2022_r2_ruwrf', 'Spring_2022_c_ruwrf'))\n",
    "print(\"Spring 2022  HRRR r2 weighted mean is:\", weighted_average(data_buoy, 'Spring_2022_r2_hrrr', 'Spring_2022_c_hrrr'))\n"
   ]
  },
  {
   "cell_type": "code",
   "execution_count": 81,
   "metadata": {},
   "outputs": [
    {
     "name": "stdout",
     "output_type": "stream",
     "text": [
      "Summer 2022  RUWRF rms weighted mean is: 1.951\n",
      "Summer 2022  HRRR rms weighted mean is: 1.916\n",
      "Summer 2022  RUWRF bias weighted mean is: -0.068\n",
      "Summer 2022  HRRR bias weighted mean is: -0.171\n",
      "Summer 2022  RUWRF r2 weighted mean is: 0.75\n",
      "Summer 2022  HRRR r2 weighted mean is: 0.73\n"
     ]
    }
   ],
   "source": [
    "print(\"Summer 2022  RUWRF rms weighted mean is:\", weighted_average(data_buoy, 'Summer_2022_rms_ruwrf', 'Summer_2022_c_ruwrf'))\n",
    "print(\"Summer 2022  HRRR rms weighted mean is:\", weighted_average(data_buoy, 'Summer_2022_rms_hrrr', 'Summer_2022_c_hrrr'))\n",
    "\n",
    "print(\"Summer 2022  RUWRF bias weighted mean is:\", weighted_average(data_buoy, 'Summer_2022_bias_ruwrf', 'Summer_2022_c_ruwrf'))\n",
    "print(\"Summer 2022  HRRR bias weighted mean is:\", weighted_average(data_buoy, 'Summer_2022_bias_hrrr', 'Summer_2022_c_hrrr'))\n",
    "\n",
    "print(\"Summer 2022  RUWRF r2 weighted mean is:\", weighted_average(data_buoy, 'Summer_2022_r2_ruwrf', 'Summer_2022_c_ruwrf'))\n",
    "print(\"Summer 2022  HRRR r2 weighted mean is:\", weighted_average(data_buoy, 'Summer_2022_r2_hrrr', 'Summer_2022_c_hrrr'))\n"
   ]
  },
  {
   "cell_type": "code",
   "execution_count": 73,
   "metadata": {},
   "outputs": [
    {
     "name": "stdout",
     "output_type": "stream",
     "text": [
      "Fall 2022  RUWRF rms weighted mean is: 2.13\n",
      "Fall 2022  HRRR rms weighted mean is: 1.928\n",
      "Fall 2022  RUWRF bias weighted mean is: -0.275\n",
      "Fall 2022  HRRR bias weighted mean is: -0.527\n",
      "Fall 2022  RUWRF r2 weighted mean is: 0.78\n",
      "Fall 2022  HRRR r2 weighted mean is: 0.82\n"
     ]
    }
   ],
   "source": [
    "print(\"Fall 2022  RUWRF rms weighted mean is:\", weighted_average(data_buoy, 'Fall_2022_rms_ruwrf', 'Fall_2022_c_ruwrf'))\n",
    "print(\"Fall 2022  HRRR rms weighted mean is:\", weighted_average(data_buoy, 'Fall_2022_rms_hrrr', 'Fall_2022_c_hrrr'))\n",
    "\n",
    "print(\"Fall 2022  RUWRF bias weighted mean is:\", weighted_average(data_buoy, 'Fall_2022_bias_ruwrf', 'Fall_2022_c_ruwrf'))\n",
    "print(\"Fall 2022  HRRR bias weighted mean is:\", weighted_average(data_buoy, 'Fall_2022_bias_hrrr', 'Fall_2022_c_hrrr'))\n",
    "\n",
    "print(\"Fall 2022  RUWRF r2 weighted mean is:\", weighted_average(data_buoy, 'Fall_2022_r2_ruwrf', 'Fall_2022_c_ruwrf'))\n",
    "print(\"Fall 2022  HRRR r2 weighted mean is:\", weighted_average(data_buoy, 'Fall_2022_r2_hrrr', 'Fall_2022_c_hrrr'))\n"
   ]
  },
  {
   "cell_type": "code",
   "execution_count": 74,
   "metadata": {},
   "outputs": [
    {
     "name": "stdout",
     "output_type": "stream",
     "text": [
      "Winter 2022  RUWRF rms weighted mean is: 2.283\n",
      "Winter 2022  HRRR rms weighted mean is: 1.879\n",
      "Winter 2022  RUWRF bias weighted mean is: -0.05\n",
      "Winter 2022  HRRR bias weighted mean is: -0.44700000000000006\n",
      "Winter 2022  RUWRF r2 weighted mean is: 0.79\n",
      "Winter 2022  HRRR r2 weighted mean is: 0.75\n"
     ]
    }
   ],
   "source": [
    "print(\"Winter 2022  RUWRF rms weighted mean is:\", weighted_average(data_buoy, 'Winter_2022_rms_ruwrf', 'Winter_2022_c_ruwrf'))\n",
    "print(\"Winter 2022  HRRR rms weighted mean is:\", weighted_average(data_buoy, 'Winter_2022_rms_hrrr', 'Winter_2022_c_hrrr'))\n",
    "\n",
    "print(\"Winter 2022  RUWRF bias weighted mean is:\", weighted_average(data_buoy, 'Winter_2022_bias_ruwrf', 'Winter_2022_c_ruwrf'))\n",
    "print(\"Winter 2022  HRRR bias weighted mean is:\", weighted_average(data_buoy, 'Winter_2022_bias_hrrr', 'Winter_2022_c_hrrr'))\n",
    "\n",
    "print(\"Winter 2022  RUWRF r2 weighted mean is:\", weighted_average(data_buoy, 'Winter_2022_r2_ruwrf', 'Winter_2022_c_ruwrf'))\n",
    "print(\"Winter 2022  HRRR r2 weighted mean is:\", weighted_average(data_buoy, 'Winter_2022_r2_hrrr', 'Winter_2022_c_hrrr'))\n"
   ]
  }
 ],
 "metadata": {
  "kernelspec": {
   "display_name": "Python 3.10.8 ('wind-science')",
   "language": "python",
   "name": "python3"
  },
  "language_info": {
   "codemirror_mode": {
    "name": "ipython",
    "version": 3
   },
   "file_extension": ".py",
   "mimetype": "text/x-python",
   "name": "python",
   "nbconvert_exporter": "python",
   "pygments_lexer": "ipython3",
   "version": "3.10.8"
  },
  "orig_nbformat": 4,
  "vscode": {
   "interpreter": {
    "hash": "325f4c6deaec31a92dcebff5c9e23f8cecab1204b01a2953e3b161056b01b04f"
   }
  }
 },
 "nbformat": 4,
 "nbformat_minor": 2
}
