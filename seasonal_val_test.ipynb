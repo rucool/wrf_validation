{
 "cells": [
  {
   "cell_type": "code",
   "execution_count": null,
   "metadata": {},
   "outputs": [],
   "source": []
  }
 ],
 "metadata": {
  "kernelspec": {
   "display_name": "Python 3.10.8 ('wrf_val')",
   "language": "python",
   "name": "python3"
  },
  "language_info": {
   "name": "python",
   "version": "3.10.8"
  },
  "orig_nbformat": 4,
  "vscode": {
   "interpreter": {
    "hash": "8be33f9e7e9092c99ae3236300298767e7bd3fc00d49c4b087533ad6ac5791c7"
   }
  }
 },
 "nbformat": 4,
 "nbformat_minor": 2
}
